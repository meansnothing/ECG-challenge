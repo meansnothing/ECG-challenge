{
 "cells": [
  {
   "cell_type": "code",
   "execution_count": 1,
   "metadata": {},
   "outputs": [],
   "source": [
    "import pandas as pd\n",
    "import os\n",
    "from datetime import datetime\n",
    "import numpy as np\n",
    "from tqdm import tqdm\n",
    "from sklearn.metrics import fbeta_score, roc_auc_score, roc_curve, roc_curve, auc\n",
    "from sklearn.preprocessing import StandardScaler\n",
    "from sklearn.model_selection import train_test_split\n",
    "import matplotlib.pyplot as plt\n",
    "import torchvision\n",
    "import torch\n",
    "import torch.nn as nn\n",
    "import neurokit2 as nk\n",
    "import torch\n",
    "from models.net_1d import Net1D\n",
    "from data import ECG_Dataset"
   ]
  },
  {
   "cell_type": "markdown",
   "metadata": {},
   "source": [
    "# 1. Data"
   ]
  },
  {
   "cell_type": "code",
   "execution_count": null,
   "metadata": {},
   "outputs": [],
   "source": [
    "train_data = ECG_Dataset()\n",
    "train_loader = torch.utils.data.DataLoader(train_data, batch_size=32, shuffle=False,drop_last=True)    \n",
    "test_data = ECG_Dataset(train=False,groups=[1,2,3])\n",
    "test_loader = torch.utils.data.DataLoader(test_data, batch_size=32, shuffle=True,drop_last=True)    "
   ]
  },
  {
   "cell_type": "code",
   "execution_count": null,
   "metadata": {},
   "outputs": [],
   "source": [
    "fig = plt.figure(figsize=(12,5))\n",
    "train_loader = torch.utils.data.DataLoader(train_data, batch_size=32, shuffle=False,drop_last=True)    \n",
    "for X,y in train_loader:\n",
    "    X= X[13].numpy()\n",
    "    print(X.shape)\n",
    "    for i,lead in enumerate(X):\n",
    "        plt.plot(lead+i*11)\n",
    "    break"
   ]
  },
  {
   "cell_type": "code",
   "execution_count": null,
   "metadata": {},
   "outputs": [],
   "source": [
    "def save_model(epochs, model, optimizer, criterion,name):\n",
    "    \"\"\"\n",
    "    Function to save the trained model to disk.\n",
    "    \"\"\"\n",
    "    print(f\"Saving final model...\")\n",
    "    torch.save({\n",
    "                'epoch': epochs,\n",
    "                'model_state_dict': model.state_dict(),\n",
    "                'optimizer_state_dict': optimizer.state_dict(),\n",
    "                'loss': criterion,\n",
    "                }, f'outputs/{name}.pth')"
   ]
  },
  {
   "cell_type": "markdown",
   "metadata": {},
   "source": [
    "# 2. Model"
   ]
  },
  {
   "cell_type": "code",
   "execution_count": 4,
   "metadata": {},
   "outputs": [],
   "source": [
    "# conv1d\n",
    "def get_net_1d():\n",
    "    base_filters = 64\n",
    "    filter_list=[64,160,160,400,400,1024,1024]\n",
    "    m_blocks_list=[2,2,2,3,3,4,4]  \n",
    "    model = Net1D(\n",
    "        in_channels=12, \n",
    "        base_filters=base_filters, \n",
    "        ratio=1.0, \n",
    "        filter_list=filter_list, \n",
    "        m_blocks_list=m_blocks_list, \n",
    "        kernel_size=16, \n",
    "        stride=2, \n",
    "        groups_width=16,\n",
    "        verbose=False, \n",
    "        n_classes=1)\n",
    "    return model\n",
    "\n",
    "def get_net_2d():\n",
    "    model = torchvision.models.resnet18(num_classes=1)\n",
    "    model.conv1 = nn.Conv2d(1, 64, kernel_size=7, stride=2, padding=2,bias=False)\n",
    "    return model\n"
   ]
  },
  {
   "cell_type": "markdown",
   "metadata": {},
   "source": [
    "# 3. Training"
   ]
  },
  {
   "cell_type": "code",
   "execution_count": null,
   "metadata": {},
   "outputs": [],
   "source": [
    "for exp in range(10):\n",
    "    model = get_net_2d()\n",
    "    EPOCHS = 6\n",
    "    results = {'loss': [], 'val_loss': [], 'auc': [], 'val_auc': []}\n",
    "    optim = torch.optim.Adam(model.parameters())\n",
    "    loss = nn.MSELoss()\n",
    "    best_auc = 0\n",
    "\n",
    "\n",
    "    for epoch in range(EPOCHS):\n",
    "        # training\n",
    "        model.train()\n",
    "        epoch_losses = []\n",
    "        epoch_aucs = []\n",
    "        for x, y in train_loader:\n",
    "            x = x.reshape(x.shape[0],1,x.shape[1],x.shape[2])\n",
    "            yhat = model.forward(x)\n",
    "            yhat = yhat.float()\n",
    "            y = y.float()\n",
    "            out = loss(yhat, y)\n",
    "            optim.zero_grad()\n",
    "            out.backward()\n",
    "            optim.step()\n",
    "\n",
    "            epoch_losses.append(out.item())\n",
    "            fpr, tpr, _ = roc_curve( y.detach(),yhat.detach())\n",
    "            roc_auc = auc(fpr, tpr)\n",
    "            epoch_aucs.append(roc_auc)\n",
    "\n",
    "        epoch_loss = np.mean(epoch_losses)\n",
    "        epoch_auc = np.mean(epoch_aucs)\n",
    "\n",
    "        # validation\n",
    "        model.eval()\n",
    "        epoch_val_losses = []\n",
    "        epoch_val_aucs = []\n",
    "        with torch.no_grad():\n",
    "            for x, y in test_loader:\n",
    "                x = x.reshape(x.shape[0],1,x.shape[1],x.shape[2])\n",
    "                yhat = model.forward(x)\n",
    "                yhat = yhat.float()\n",
    "                y = y.float()\n",
    "                out = loss(yhat, y)\n",
    "                epoch_val_losses.append(out.item())\n",
    "\n",
    "                fpr, tpr, _ = roc_curve(y.detach(),yhat.detach())\n",
    "                roc_auc = auc(fpr, tpr)\n",
    "                epoch_val_aucs.append(roc_auc)\n",
    "\n",
    "        epoch_val_loss = np.mean(epoch_val_losses)\n",
    "        epoch_val_auc = np.mean(epoch_val_aucs)\n",
    "        if epoch_val_auc>best_auc:\n",
    "            best_auc = epoch_val_auc\n",
    "            save_model(epochs=epoch,model=model,optimizer=optim,criterion=loss,name=f'best_model_exp_{exp}')\n",
    "        # populate results\n",
    "        results['loss'].append( epoch_loss )\n",
    "        results['val_loss'].append( epoch_val_loss )\n",
    "        results['auc'].append( epoch_auc )\n",
    "        results['val_auc'].append( epoch_val_auc )\n",
    "\n",
    "        #if (epoch+1) % 5 == 0 or epoch+1 == EPOCHS:\n",
    "        print(\"Epoch {}/{}\\tTrain Loss: {:.4f}\\tTest Loss: {:.4f}\\tTrain AUC: {:.2f} \\tTest AUC: {:.2f} \".format(\n",
    "                epoch+1, EPOCHS, epoch_loss, epoch_val_loss, epoch_auc, epoch_val_auc) )"
   ]
  },
  {
   "cell_type": "code",
   "execution_count": null,
   "metadata": {},
   "outputs": [],
   "source": [
    "plt.plot(results['loss'],label='train')\n",
    "plt.plot(results['auc'],label='val')\n",
    "plt.xlabel(\"Epoch\")"
   ]
  },
  {
   "cell_type": "markdown",
   "metadata": {},
   "source": [
    "# 4. Evaluation"
   ]
  },
  {
   "cell_type": "code",
   "execution_count": 15,
   "metadata": {},
   "outputs": [],
   "source": [
    "test_data={}\n",
    "test_loader={}\n",
    "for g in [1,2,3]:\n",
    "    test_data[g] = ECG_Dataset(train=False,groups=[g])\n",
    "    test_loader[g] = torch.utils.data.DataLoader(test_data[g], batch_size=32, shuffle=True,drop_last=True)    "
   ]
  },
  {
   "cell_type": "code",
   "execution_count": 19,
   "metadata": {},
   "outputs": [
    {
     "data": {
      "text/plain": [
       "<Figure size 432x288 with 0 Axes>"
      ]
     },
     "metadata": {},
     "output_type": "display_data"
    }
   ],
   "source": [
    "suffix = datetime.now().strftime('%Y%m%d%H%M')\n",
    "plt.figure()\n",
    "ys ={}\n",
    "preds = {}\n",
    "c_dict = {\n",
    "    1: 'b',\n",
    "    2: 'r',\n",
    "    3: 'g'\n",
    "}\n",
    "\n",
    "gname_dict = {\n",
    "    1: 'Underweight_Normal',\n",
    "    2: 'pre-obesity',\n",
    "    3: 'obesity'\n",
    "}"
   ]
  },
  {
   "cell_type": "code",
   "execution_count": 48,
   "metadata": {},
   "outputs": [
    {
     "data": {
      "image/png": "[encoded data removed]",
      "text/plain": [
       "<Figure size 432x288 with 1 Axes>"
      ]
     },
     "metadata": {
      "needs_background": "light"
     },
     "output_type": "display_data"
    }
   ],
   "source": [
    "for g in [1,2,3]:\n",
    "    ys[g] = []\n",
    "    preds[g] = []\n",
    "    for x, y in test_loader[g]:\n",
    "        x = x.reshape(x.shape[0],1,x.shape[1],x.shape[2])\n",
    "        yhat = model.forward(x)\n",
    "        yhat = yhat.detach().numpy()\n",
    "        y = y.detach().numpy()\n",
    "        ys[g] = np.append(ys[g],y)\n",
    "        preds[g] = np.append(preds[g],yhat)\n",
    "    fpr, tpr, _ = roc_curve( ys[g],preds[g])\n",
    "    roc_auc = auc(fpr, tpr)\n",
    "    roc_auc = round(roc_auc,4)\n",
    "    plt.plot(\n",
    "        fpr,\n",
    "        tpr,\n",
    "        color=c_dict[g],\n",
    "        label=f\"{gname_dict[g]}: auc {roc_auc}\",\n",
    "    )\n",
    "    plt.plot([0, 1], [0, 1], color=\"navy\", linestyle=\"--\")\n",
    "    plt.xlim([0.0, 1.0])\n",
    "    plt.ylim([0.0, 1.05])\n",
    "plt.xlabel(\"False Positive Rate\")\n",
    "plt.ylabel(\"True Positive Rate\")\n",
    "plt.title(\"Receiver operating characteristic example\")\n",
    "plt.legend(loc=\"lower right\")\n",
    "plt.show()\n",
    "# https://assets.researchsquare.com/files/rs-1550001/v1_covered.pdf?c=1650647458"
   ]
  },
  {
   "cell_type": "code",
   "execution_count": 16,
   "metadata": {},
   "outputs": [],
   "source": [
    "aucs = {group:[] for group in [1,2,3]}\n",
    "for exp in range(10):\n",
    "    model = get_net_2d()\n",
    "    checkpoint = torch.load(f\"outputs/best_model_exp_{exp}.pth\")\n",
    "    model.load_state_dict(checkpoint['model_state_dict'])\n",
    "    model.eval()\n",
    "    for g in [1,2,3]:\n",
    "        ys = []\n",
    "        preds = []\n",
    "        for x, y in test_loader[g]:\n",
    "            x = x.reshape(x.shape[0],1,x.shape[1],x.shape[2])\n",
    "            yhat = model.forward(x)\n",
    "            yhat = yhat.detach().numpy()\n",
    "            y = y.detach().numpy()\n",
    "            ys = np.append(ys,y)\n",
    "            preds = np.append(preds,yhat)\n",
    "        fpr, tpr, _ = roc_curve( ys,preds)\n",
    "        roc_auc = auc(fpr, tpr)\n",
    "        aucs[g].append(roc_auc)"
   ]
  },
  {
   "cell_type": "code",
   "execution_count": 41,
   "metadata": {},
   "outputs": [
    {
     "data": {
      "text/html": [
       "<div>\n",
       "<style scoped>\n",
       "    .dataframe tbody tr th:only-of-type {\n",
       "        vertical-align: middle;\n",
       "    }\n",
       "\n",
       "    .dataframe tbody tr th {\n",
       "        vertical-align: top;\n",
       "    }\n",
       "\n",
       "    .dataframe thead th {\n",
       "        text-align: right;\n",
       "    }\n",
       "</style>\n",
       "<table border=\"1\" class=\"dataframe\">\n",
       "  <thead>\n",
       "    <tr style=\"text-align: right;\">\n",
       "      <th></th>\n",
       "      <th>Rank 1</th>\n",
       "      <th>Rank 2</th>\n",
       "      <th>Rank 3</th>\n",
       "    </tr>\n",
       "  </thead>\n",
       "  <tbody>\n",
       "    <tr>\n",
       "      <th>Underweight_Normal</th>\n",
       "      <td>0.7</td>\n",
       "      <td>0.2</td>\n",
       "      <td>0.1</td>\n",
       "    </tr>\n",
       "    <tr>\n",
       "      <th>pre-obesity</th>\n",
       "      <td>0.3</td>\n",
       "      <td>0.7</td>\n",
       "      <td>0.0</td>\n",
       "    </tr>\n",
       "    <tr>\n",
       "      <th>obesity</th>\n",
       "      <td>0.0</td>\n",
       "      <td>0.1</td>\n",
       "      <td>0.9</td>\n",
       "    </tr>\n",
       "  </tbody>\n",
       "</table>\n",
       "</div>"
      ],
      "text/plain": [
       "                    Rank 1  Rank 2  Rank 3\n",
       "Underweight_Normal     0.7     0.2     0.1\n",
       "pre-obesity            0.3     0.7     0.0\n",
       "obesity                0.0     0.1     0.9"
      ]
     },
     "execution_count": 41,
     "metadata": {},
     "output_type": "execute_result"
    }
   ],
   "source": [
    "odds_table = pd.DataFrame(index=[gname_dict[g] for g in [1,2,3]],columns=[f\"Rank {g}\" for g in [1,2,3]]).fillna(0)\n",
    "for exp in range(10):\n",
    "    auc_exp = [aucs[g][exp] for g in [1,2,3]]\n",
    "    ranks = sorted(range(len(auc_exp))[::-1], key=lambda k: auc_exp[k])[::-1]\n",
    "    for r in [1,2,3]:\n",
    "        odds_table.loc[gname_dict[ranks[r-1]+1],f\"Rank {r}\"]+=1\n",
    "odds_table/10"
   ]
  },
  {
   "cell_type": "code",
   "execution_count": 52,
   "metadata": {},
   "outputs": [
    {
     "data": {
      "text/plain": [
       "<Figure size 432x288 with 0 Axes>"
      ]
     },
     "metadata": {},
     "output_type": "display_data"
    },
    {
     "data": {
      "image/png": "[encoded data removed]",
      "text/plain": [
       "<Figure size 432x288 with 2 Axes>"
      ]
     },
     "metadata": {
      "needs_background": "light"
     },
     "output_type": "display_data"
    },
    {
     "data": {
      "text/plain": [
       "<Figure size 432x288 with 0 Axes>"
      ]
     },
     "metadata": {},
     "output_type": "display_data"
    },
    {
     "data": {
      "image/png": "[encoded data removed]",
      "text/plain": [
       "<Figure size 432x288 with 2 Axes>"
      ]
     },
     "metadata": {
      "needs_background": "light"
     },
     "output_type": "display_data"
    },
    {
     "data": {
      "text/plain": [
       "<Figure size 432x288 with 0 Axes>"
      ]
     },
     "metadata": {},
     "output_type": "display_data"
    },
    {
     "data": {
      "image/png": "[encoded data removed]",
      "text/plain": [
       "<Figure size 432x288 with 2 Axes>"
      ]
     },
     "metadata": {
      "needs_background": "light"
     },
     "output_type": "display_data"
    }
   ],
   "source": [
    "from sklearn.metrics import confusion_matrix, ConfusionMatrixDisplay\n",
    "\n",
    "for g in [1,2,3]:\n",
    "    plt.figure()\n",
    "    y = ys[g]\n",
    "    pred = preds[g]\n",
    "    pred = [0 if p<pred.mean() else 1 for p in pred]\n",
    "    cm = confusion_matrix(y, pred, normalize='all')\n",
    "    disp = ConfusionMatrixDisplay(confusion_matrix=cm)\n",
    "    disp.plot()\n",
    "    plt.title(f\"Group {gname_dict[g]}\")"
   ]
  },
  {
   "cell_type": "code",
   "execution_count": null,
   "metadata": {},
   "outputs": [],
   "source": [
    "# https://neurokit2.readthedocs.io/en/latest/examples/heartbeats.html\n",
    "rpeaks = info[\"ECG_R_Peaks\"]\n",
    "cleaned_ecg = df[\"ECG_Clean\"]\n",
    "plot = nk.events_plot(rpeaks, cleaned_ecg)"
   ]
  }
 ],
 "metadata": {
  "interpreter": {
   "hash": "81794d4967e6c3204c66dcd87b604927b115b27c00565d3d43f05ba2f3a2cb0d"
  },
  "kernelspec": {
   "display_name": "Python 3.9.6 64-bit",
   "language": "python",
   "name": "python3"
  },
  "language_info": {
   "codemirror_mode": {
    "name": "ipython",
    "version": 3
   },
   "file_extension": ".py",
   "mimetype": "text/x-python",
   "name": "python",
   "nbconvert_exporter": "python",
   "pygments_lexer": "ipython3",
   "version": "3.9.6"
  },
  "orig_nbformat": 4
 },
 "nbformat": 4,
 "nbformat_minor": 2
}
