{
 "cells": [
  {
   "cell_type": "code",
   "execution_count": null,
   "metadata": {},
   "outputs": [],
   "source": [
    "import pandas as pd\n",
    "import os\n",
    "import numpy as np\n",
    "import pickle\n",
    "from tqdm import tqdm\n",
    "import wfdb\n",
    "from sklearn.metrics import fbeta_score, roc_auc_score, roc_curve, roc_curve, auc\n",
    "from models.wavelet import WaveletModel\n",
    "from sklearn.preprocessing import StandardScaler, MultiLabelBinarizer\n",
    "from sklearn.model_selection import train_test_split"
   ]
  },
  {
   "cell_type": "code",
   "execution_count": null,
   "metadata": {},
   "outputs": [],
   "source": [
    "# for preprocessing\n",
    "def load_raw_data_ptbxl(df, sampling_rate, path):\n",
    "    if sampling_rate == 100:\n",
    "        if os.path.exists(path + 'raw100.npy'):\n",
    "            data = np.load(path+'raw100.npy', allow_pickle=True)\n",
    "        else:\n",
    "            data = [wfdb.rdsamp(path+f) for f in tqdm(df.filename_lr)]\n",
    "            data = np.array([signal for signal, meta in data])\n",
    "            pickle.dump(data, open(path+'raw100.npy', 'wb'), protocol=4)\n",
    "    elif sampling_rate == 500:\n",
    "        if os.path.exists(path + 'raw500.npy'):\n",
    "            data = np.load(path+'raw500.npy', allow_pickle=True)\n",
    "        else:\n",
    "            data = [wfdb.rdsamp(path+f) for f in tqdm(df.filename_hr)]\n",
    "            data = np.array([signal for signal, meta in data])\n",
    "            pickle.dump(data, open(path+'raw500.npy', 'wb'), protocol=4)\n",
    "    return data\n",
    "\n",
    "def apply_standardizer(X, ss):\n",
    "    X_tmp = []\n",
    "    for x in X:\n",
    "        x_shape = x.shape\n",
    "        X_tmp.append(ss.transform(x.flatten()[:,np.newaxis]).reshape(x_shape))\n",
    "    X_tmp = np.array(X_tmp)\n",
    "    return X_tmp\n",
    "\n",
    "def preprocess_signals(X_train, X_validation, X_test, outputfolder):\n",
    "    # Standardize data such that mean 0 and variance 1\n",
    "    ss = StandardScaler()\n",
    "    ss.fit(np.vstack(X_train).flatten()[:,np.newaxis].astype(float))\n",
    "    \n",
    "    # Save Standardizer data\n",
    "    with open(outputfolder+'standard_scaler.pkl', 'wb') as ss_file:\n",
    "        pickle.dump(ss, ss_file)\n",
    "\n",
    "    return apply_standardizer(X_train, ss), apply_standardizer(X_validation, ss), apply_standardizer(X_test, ss)\n",
    "    "
   ]
  },
  {
   "cell_type": "code",
   "execution_count": 84,
   "metadata": {},
   "outputs": [],
   "source": [
    "def train(X_train,y_train, X_val, y_val):\n",
    "    input_shape = X_train[0].shape\n",
    "    model = WaveletModel('wm', 1, 100, 'outputs/', input_shape)\n",
    "    model.fit(X_train,y_train, X_val, y_val)\n",
    "    return model\n",
    "\n",
    "df = pd.read_csv('data/mi_df.csv').reset_index(drop=True)\n",
    "X = load_raw_data_ptbxl(df,100,'data/')\n",
    "\n",
    "train_val_indicies = df[df['bmi_group'].isna()].index\n",
    "X_train_val = X[train_val_indicies.to_list()]\n",
    "y_train_val = np.array(df.iloc[train_val_indicies]['MI'])\n",
    "X_train, X_val, y_train, y_val = train_test_split(X_train_val, y_train_val, test_size=0.2, random_state=1)\n",
    "model = train(X_train,y_train, X_val, y_val)"
   ]
  },
  {
   "cell_type": "code",
   "execution_count": 85,
   "metadata": {},
   "outputs": [
    {
     "name": "stdout",
     "output_type": "stream",
     "text": [
      "Group 1: auc = 0.44968\n",
      "Group 2: auc = 0.46414\n",
      "Group 3: auc = 0.52242\n"
     ]
    }
   ],
   "source": [
    "for group in [1,2,3]:\n",
    "    X = load_raw_data_ptbxl(df,100,'data/')\n",
    "    test_indicies = df[df['bmi_group']==group].index\n",
    "    y_test = np.array(df.iloc[test_indicies]['MI'])\n",
    "    X_test = X[test_indicies.to_list()]\n",
    "    preds = model.predict(X_test)\n",
    "    auc = round(roc_auc_score(y_test, preds, average='macro'),5)\n",
    "    print(f\"Group {group}: auc = {auc}\")"
   ]
  }
 ],
 "metadata": {
  "interpreter": {
   "hash": "1bd95167132cc21a6481e70a115a80b2d4e9222101e7d1ec38421a78d533a75f"
  },
  "kernelspec": {
   "display_name": "Python 3.8.4 64-bit",
   "language": "python",
   "name": "python3"
  },
  "language_info": {
   "codemirror_mode": {
    "name": "ipython",
    "version": 3
   },
   "file_extension": ".py",
   "mimetype": "text/x-python",
   "name": "python",
   "nbconvert_exporter": "python",
   "pygments_lexer": "ipython3",
   "version": "3.9.6"
  },
  "orig_nbformat": 4
 },
 "nbformat": 4,
 "nbformat_minor": 2
}
